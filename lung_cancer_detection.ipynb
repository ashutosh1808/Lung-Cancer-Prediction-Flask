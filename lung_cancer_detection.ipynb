{
  "nbformat": 4,
  "nbformat_minor": 0,
  "metadata": {
    "colab": {
      "provenance": []
    },
    "kernelspec": {
      "name": "python3",
      "display_name": "Python 3"
    },
    "language_info": {
      "name": "python"
    }
  },
  "cells": [
    {
      "cell_type": "code",
      "execution_count": null,
      "metadata": {
        "id": "_jn31KjYBDHq"
      },
      "outputs": [],
      "source": [
        "import pandas as pd\n",
        "import matplotlib.pyplot as plt"
      ]
    },
    {
      "cell_type": "code",
      "source": [
        "data=pd.read_csv(\"/content/survey lung cancer.csv\")\n",
        "data.head()\n",
        "data.shape"
      ],
      "metadata": {
        "id": "oLd4V-KSCmyh",
        "colab": {
          "base_uri": "https://localhost:8080/"
        },
        "outputId": "e8052ad6-991e-4120-cc30-74bc7b81be75"
      },
      "execution_count": null,
      "outputs": [
        {
          "output_type": "execute_result",
          "data": {
            "text/plain": [
              "(309, 16)"
            ]
          },
          "metadata": {},
          "execution_count": 4
        }
      ]
    },
    {
      "cell_type": "code",
      "source": [
        "data.info()"
      ],
      "metadata": {
        "colab": {
          "base_uri": "https://localhost:8080/"
        },
        "id": "8AuVaxusDGz0",
        "outputId": "7cc418df-67b0-4194-af08-09f2a4e5cf2d"
      },
      "execution_count": null,
      "outputs": [
        {
          "output_type": "stream",
          "name": "stdout",
          "text": [
            "<class 'pandas.core.frame.DataFrame'>\n",
            "RangeIndex: 309 entries, 0 to 308\n",
            "Data columns (total 16 columns):\n",
            " #   Column                 Non-Null Count  Dtype \n",
            "---  ------                 --------------  ----- \n",
            " 0   GENDER                 309 non-null    object\n",
            " 1   AGE                    309 non-null    int64 \n",
            " 2   SMOKING                309 non-null    int64 \n",
            " 3   YELLOW_FINGERS         309 non-null    int64 \n",
            " 4   ANXIETY                309 non-null    int64 \n",
            " 5   PEER_PRESSURE          309 non-null    int64 \n",
            " 6   CHRONIC DISEASE        309 non-null    int64 \n",
            " 7   FATIGUE                309 non-null    int64 \n",
            " 8   ALLERGY                309 non-null    int64 \n",
            " 9   WHEEZING               309 non-null    int64 \n",
            " 10  ALCOHOL CONSUMING      309 non-null    int64 \n",
            " 11  COUGHING               309 non-null    int64 \n",
            " 12  SHORTNESS OF BREATH    309 non-null    int64 \n",
            " 13  SWALLOWING DIFFICULTY  309 non-null    int64 \n",
            " 14  CHEST PAIN             309 non-null    int64 \n",
            " 15  LUNG_CANCER            309 non-null    object\n",
            "dtypes: int64(14), object(2)\n",
            "memory usage: 38.8+ KB\n"
          ]
        }
      ]
    },
    {
      "cell_type": "code",
      "source": [
        "print(data.isna().sum())"
      ],
      "metadata": {
        "colab": {
          "base_uri": "https://localhost:8080/"
        },
        "id": "AJFkqcuiDPZV",
        "outputId": "2fd889d9-2888-46fb-816c-8c371b131825"
      },
      "execution_count": null,
      "outputs": [
        {
          "output_type": "stream",
          "name": "stdout",
          "text": [
            "GENDER                   0\n",
            "AGE                      0\n",
            "SMOKING                  0\n",
            "YELLOW_FINGERS           0\n",
            "ANXIETY                  0\n",
            "PEER_PRESSURE            0\n",
            "CHRONIC DISEASE          0\n",
            "FATIGUE                  0\n",
            "ALLERGY                  0\n",
            "WHEEZING                 0\n",
            "ALCOHOL CONSUMING        0\n",
            "COUGHING                 0\n",
            "SHORTNESS OF BREATH      0\n",
            "SWALLOWING DIFFICULTY    0\n",
            "CHEST PAIN               0\n",
            "LUNG_CANCER              0\n",
            "dtype: int64\n"
          ]
        }
      ]
    },
    {
      "cell_type": "code",
      "source": [
        "features=data[[\"AGE\",\"ALCOHOL CONSUMING\",\"PEER_PRESSURE\",\"CHRONIC DISEASE\"]]\n",
        "target=data[[\"LUNG_CANCER\"]]"
      ],
      "metadata": {
        "id": "IMosMcu6DWoQ"
      },
      "execution_count": null,
      "outputs": []
    },
    {
      "cell_type": "code",
      "source": [
        "new_features=pd.get_dummies(features,drop_first=True)\n",
        "print(new_features.head())"
      ],
      "metadata": {
        "colab": {
          "base_uri": "https://localhost:8080/"
        },
        "id": "lwpXGj4AEGRf",
        "outputId": "92b48e16-1ed0-4064-9f99-6a78c63c9ab1"
      },
      "execution_count": null,
      "outputs": [
        {
          "output_type": "stream",
          "name": "stdout",
          "text": [
            "   AGE  ALCOHOL CONSUMING  PEER_PRESSURE  CHRONIC DISEASE\n",
            "0   69                  2              1                1\n",
            "1   74                  1              1                2\n",
            "2   59                  1              2                1\n",
            "3   63                  2              1                1\n",
            "4   63                  1              1                1\n"
          ]
        }
      ]
    },
    {
      "cell_type": "code",
      "source": [
        "from sklearn.model_selection import train_test_split\n",
        "x_train,x_test,y_train,y_test=train_test_split(new_features,target,random_state=150)"
      ],
      "metadata": {
        "id": "zTmN-K5XFyU5"
      },
      "execution_count": null,
      "outputs": []
    },
    {
      "cell_type": "code",
      "source": [
        "from sklearn.ensemble import RandomForestClassifier\n",
        "model=RandomForestClassifier(n_estimators=200,random_state=40)\n",
        "model.fit(x_train,y_train)\n",
        "\n",
        "y_pred=model.predict(x_test)"
      ],
      "metadata": {
        "id": "-KLTiAYJEQNq",
        "colab": {
          "base_uri": "https://localhost:8080/"
        },
        "outputId": "d131ad64-82f0-4df6-e8b5-05cfa471b4e8"
      },
      "execution_count": null,
      "outputs": [
        {
          "output_type": "stream",
          "name": "stderr",
          "text": [
            "<ipython-input-40-cfffee5002ac>:3: DataConversionWarning: A column-vector y was passed when a 1d array was expected. Please change the shape of y to (n_samples,), for example using ravel().\n",
            "  model.fit(x_train,y_train)\n"
          ]
        }
      ]
    },
    {
      "cell_type": "code",
      "source": [
        "from sklearn.metrics import *\n",
        "cr=classification_report(y_test,y_pred)\n",
        "print(cr)"
      ],
      "metadata": {
        "colab": {
          "base_uri": "https://localhost:8080/"
        },
        "id": "BtFQ7-jaF8py",
        "outputId": "4b06ad05-9d7c-4754-c805-8352b36078b4"
      },
      "execution_count": null,
      "outputs": [
        {
          "output_type": "stream",
          "name": "stdout",
          "text": [
            "              precision    recall  f1-score   support\n",
            "\n",
            "          NO       0.20      0.17      0.18         6\n",
            "         YES       0.93      0.94      0.94        72\n",
            "\n",
            "    accuracy                           0.88        78\n",
            "   macro avg       0.57      0.56      0.56        78\n",
            "weighted avg       0.88      0.88      0.88        78\n",
            "\n"
          ]
        }
      ]
    },
    {
      "cell_type": "code",
      "source": [
        "age=float(input(\"enter age: \"))\n",
        "ac=int(input(\"is the patient alcohol consuming? n=1,y=2: \"))\n",
        "pp=int(input(\"is the patient in a peer pressure? n=1,y=2: \"))\n",
        "cd=int(input(\"is the having any chronic disease? n=1,y=2: \"))\n",
        "d=[[age,ac,pp,cd]]\n",
        "res=model.predict(d)\n",
        "print(res)"
      ],
      "metadata": {
        "id": "Cf1MdbntIMbB",
        "colab": {
          "base_uri": "https://localhost:8080/"
        },
        "outputId": "af53ddf9-de9c-4314-f9c0-f443dca362c5"
      },
      "execution_count": 43,
      "outputs": [
        {
          "output_type": "stream",
          "name": "stdout",
          "text": [
            "enter age: 19\n",
            "is the patient alcohol consuming? n=1,y=2: 2\n",
            "is the patient in a peer pressure? n=1,y=2: 1\n",
            "is the having any chronic disease? n=1,y=2: 1\n",
            "['YES']\n"
          ]
        },
        {
          "output_type": "stream",
          "name": "stderr",
          "text": [
            "/usr/local/lib/python3.10/dist-packages/sklearn/base.py:439: UserWarning: X does not have valid feature names, but RandomForestClassifier was fitted with feature names\n",
            "  warnings.warn(\n"
          ]
        }
      ]
    },
    {
      "cell_type": "code",
      "source": [
        "import pickle\n",
        "with open(\"lc.model\",\"wb\") as f:\n",
        "  pickle.dump(model,f)"
      ],
      "metadata": {
        "id": "AFfPfZJdaXW6"
      },
      "execution_count": 44,
      "outputs": []
    },
    {
      "cell_type": "code",
      "source": [],
      "metadata": {
        "id": "IPKj6EMoa5tP"
      },
      "execution_count": null,
      "outputs": []
    }
  ]
}